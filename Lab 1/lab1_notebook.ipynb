{
 "cells": [
  {
   "cell_type": "code",
   "execution_count": 2,
   "metadata": {},
   "outputs": [],
   "source": [
    "import arcpy\n",
    "import psycopg2\n",
    "from psycopg2 import sql"
   ]
  },
  {
   "cell_type": "code",
   "execution_count": 4,
   "metadata": {},
   "outputs": [],
   "source": [
    "#create array of list of points\n",
    "star_points = arcpy.Array([arcpy.Point(5,10), arcpy.Point(6,6), arcpy.Point(10,6), \n",
    "                           arcpy.Point(7,4), arcpy.Point(8,0), arcpy.Point(5,3),\n",
    "                           arcpy.Point(2,0), arcpy.Point(3,4), arcpy.Point(0,6),\n",
    "                           arcpy.Point(4,6), arcpy.Point(5,10)])"
   ]
  },
  {
   "cell_type": "code",
   "execution_count": 5,
   "metadata": {},
   "outputs": [],
   "source": [
    "#create polygon from array\n",
    "star_polygon = arcpy.Polygon(star_points)"
   ]
  },
  {
   "cell_type": "code",
   "execution_count": 6,
   "metadata": {},
   "outputs": [
    {
     "data": {
      "image/svg+xml": [
       "<svg xmlns=\"http://www.w3.org/2000/svg\" xmlns:xlink=\"http://www.w3.org/1999/xlink\" width=\"100.0\" height=\"100.0\" viewBox=\"-0.4000048828125 -0.4000048828125 10.8001318359375 10.8001318359375\" preserveAspectRatio=\"xMinYMin meet\"><g transform=\"matrix(1,0,0,-1,0,10.0001220703125)\"><path fill-rule=\"evenodd\" fill=\"#66cc99\" stroke=\"#555555\" stroke-width=\"0.21600263671874997\" opacity=\"0.6\" d=\" M 5.0001220703125,10.0001220703125 L 6.0001220703125,6.0001220703125 L 10.0001220703125,6.0001220703125 L 7.0001220703125,4.0001220703125 L 8.0001220703125,0 L 5.0001220703125,3.0001220703125 L 2.0001220703125,0 L 3.0001220703125,4.0001220703125 L 0,6.0001220703125 L 4.0001220703125,6.0001220703125 L 5.0001220703125,10.0001220703125 z\" /></g></svg>"
      ],
      "text/plain": [
       "<Polygon object at 0x15d1ae7aa90[0x15d1ae7aa20]>"
      ]
     },
     "execution_count": 6,
     "metadata": {},
     "output_type": "execute_result"
    }
   ],
   "source": [
    "#testing that it looks like a proper star\n",
    "star_polygon"
   ]
  },
  {
   "cell_type": "code",
   "execution_count": 7,
   "metadata": {},
   "outputs": [],
   "source": [
    "#convert to WKT\n",
    "star_WKT = star_polygon.WKT"
   ]
  },
  {
   "cell_type": "code",
   "execution_count": 8,
   "metadata": {},
   "outputs": [],
   "source": [
    "#connect to my DB\n",
    "schiller_database = psycopg2.connect(host = '34.27.119.90',\n",
    "                    database = 'lab0',\n",
    "                    user = 'postgres',\n",
    "                    password = '')"
   ]
  },
  {
   "cell_type": "code",
   "execution_count": 9,
   "metadata": {},
   "outputs": [],
   "source": [
    "#create cursor\n",
    "cursor = schiller_database.cursor()\n",
    "\n",
    "#insert statement\n",
    "insert_stmt = \"INSERT INTO mytable (geom) VALUES (ST_GeomFromText('{}', 4326))\".format(star_WKT)\n",
    "cursor.execute(insert_stmt)\n",
    "schiller_database.commit()"
   ]
  },
  {
   "cell_type": "code",
   "execution_count": 10,
   "metadata": {},
   "outputs": [],
   "source": [
    "#close the cursor and database connection\n",
    "cursor.close()\n",
    "schiller_database.close()"
   ]
  },
  {
   "cell_type": "code",
   "execution_count": null,
   "metadata": {},
   "outputs": [],
   "source": []
  }
 ],
 "metadata": {
  "kernelspec": {
   "display_name": "ArcGISPro",
   "language": "Python",
   "name": "python3"
  },
  "language_info": {
   "file_extension": ".py",
   "name": "python",
   "version": "3"
  }
 },
 "nbformat": 4,
 "nbformat_minor": 2
}
