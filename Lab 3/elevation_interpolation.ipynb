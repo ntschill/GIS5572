{
 "cells": [
  {
   "cell_type": "code",
   "execution_count": 3,
   "metadata": {},
   "outputs": [],
   "source": [
    "import numpy as np\n",
    "import pandas as pd\n",
    "import psycopg2\n",
    "from sqlalchemy import create_engine\n",
    "import requests\n",
    "import zipfile\n",
    "import os\n",
    "import random"
   ]
  },
  {
   "cell_type": "code",
   "execution_count": 8,
   "metadata": {},
   "outputs": [],
   "source": [
    "#function to download the DEM\n",
    "def download_dem(url, save_path):\n",
    "    response = requests.get(url, stream=True)\n",
    "    if response.status_code == 200:\n",
    "        with open(save_path, 'wb') as file:\n",
    "            for chunk in response.iter_content(chunk_size=1024):\n",
    "                file.write(chunk)\n",
    "    with zipfile.ZipFile(save_path, 'r') as zip_ref:\n",
    "        zip_ref.extractall(os.path.join(out_dir, 'dem'))"
   ]
  },
  {
   "cell_type": "code",
   "execution_count": 13,
   "metadata": {},
   "outputs": [],
   "source": [
    "#set URL and directory, run download function\n",
    "dem_url = r'https://resources.gisdata.mn.gov/pub/gdrs/data/pub/us_mn_state_dnr/elev_30m_digital_elevation_model/fgdb_elev_30m_digital_elevation_model.zip'\n",
    "out_dir = r\"C:\\Users\\SCHIL726\\Downloads\"\n",
    "\n",
    "download_dem(dem_url, os.path.join(out_dir, 'dem.zip'))"
   ]
  },
  {
   "cell_type": "code",
   "execution_count": 1,
   "metadata": {},
   "outputs": [],
   "source": [
    "#clip data to hennepin county because there is a lot\n",
    "with arcpy.EnvManager(scratchWorkspace=r\"C:\\Users\\SCHIL726\\Documents\\ArcGIS\\Projects\\GIS5572_Lab3\\GIS5572_Lab3.gdb\"):\n",
    "    out_raster = arcpy.sa.ExtractByMask(\n",
    "        in_raster=\"digital_elevation_model_30m\",\n",
    "        in_mask_data=\"hennepin_polygon\",\n",
    "        extraction_area=\"INSIDE\",\n",
    "        analysis_extent='439324.861 4959173.419 486049.45 5010478.118 PROJCS[\"NAD_1983_UTM_Zone_15N\",GEOGCS[\"GCS_North_American_1983\",DATUM[\"D_North_American_1983\",SPHEROID[\"GRS_1980\",6378137.0,298.257222101]],PRIMEM[\"Greenwich\",0.0],UNIT[\"Degree\",0.0174532925199433]],PROJECTION[\"Transverse_Mercator\"],PARAMETER[\"False_Easting\",500000.0],PARAMETER[\"False_Northing\",0.0],PARAMETER[\"Central_Meridian\",-93.0],PARAMETER[\"Scale_Factor\",0.9996],PARAMETER[\"Latitude_Of_Origin\",0.0],UNIT[\"Meter\",1.0]]'\n",
    "    )\n",
    "    out_raster.save(r\"C:\\Users\\SCHIL726\\Documents\\ArcGIS\\Projects\\GIS5572_Lab3\\GIS5572_Lab3.gdb\\hennepin_dem_30m\")"
   ]
  },
  {
   "cell_type": "code",
   "execution_count": 2,
   "metadata": {},
   "outputs": [
    {
     "data": {
      "text/html": [
       "<div class='gpresult'><h2>Messages</h2><div id='messages' data-messages='[\"Start Time: Monday, April 7, 2025 11:12:15 PM\",\"Succeeded at Monday, April 7, 2025 11:12:33 PM (Elapsed Time: 17.75 seconds)\"]' data-show='true'><div id = 'default' /></div></div>"
      ],
      "text/plain": [
       "<Result 'C:\\\\Users\\\\SCHIL726\\\\Documents\\\\ArcGIS\\\\Projects\\\\GIS5572_Lab3\\\\GIS5572_Lab3.gdb\\\\MN_dem_30m_points'>"
      ]
     },
     "execution_count": 2,
     "metadata": {},
     "output_type": "execute_result"
    }
   ],
   "source": [
    "#convert raster to points\n",
    "arcpy.conversion.RasterToPoint(\n",
    "    in_raster=\"hennepin_dem_30m\",\n",
    "    out_point_features=r\"C:\\Users\\SCHIL726\\Documents\\ArcGIS\\Projects\\GIS5572_Lab3\\GIS5572_Lab3.gdb\\MN_dem_30m_points\",\n",
    "    raster_field=\"VALUE\"\n",
    ")"
   ]
  },
  {
   "cell_type": "code",
   "execution_count": 5,
   "metadata": {},
   "outputs": [
    {
     "name": "stdout",
     "output_type": "stream",
     "text": [
      "174500\n"
     ]
    }
   ],
   "source": [
    "#sample 10% of the points - justifying this amount because there are a LOT (still almost 200k just in hennepin)\n",
    "\n",
    "#find the point count first\n",
    "point_count = int(arcpy.GetCount_management(\"MN_dem_30m_points\").getOutput(0))\n",
    "\n",
    "sample_calc = int(point_count * 0.1)\n",
    "\n",
    "#create index of points them randomly sample it\n",
    "index = list(range(1,point_count + 1))\n",
    "sampled_index = random.sample(index, sample_calc)\n",
    "\n",
    "print(len(sampled_index))"
   ]
  },
  {
   "cell_type": "code",
   "execution_count": 6,
   "metadata": {},
   "outputs": [
    {
     "data": {
      "text/html": [
       "<div class='gpresult'><h2>Messages</h2><div id='messages' data-messages='[\"Start Time: Monday, April 7, 2025 11:22:25 PM\",\"Succeeded at Monday, April 7, 2025 11:22:26 PM (Elapsed Time: 0.47 seconds)\"]' data-show='true'><div id = 'default' /></div></div>"
      ],
      "text/plain": [
       "<Result 'C:\\\\Users\\\\SCHIL726\\\\Documents\\\\ArcGIS\\\\Projects\\\\GIS5572_Lab3\\\\GIS5572_Lab3.gdb\\\\dem_sampled'>"
      ]
     },
     "execution_count": 6,
     "metadata": {},
     "output_type": "execute_result"
    }
   ],
   "source": [
    "#create feature class to store sampled points, using hennepin_dem_30m as template\n",
    "arcpy.management.CreateFeatureclass(\n",
    "    out_path=r\"C:\\Users\\SCHIL726\\Documents\\ArcGIS\\Projects\\GIS5572_Lab3\\GIS5572_Lab3.gdb\",\n",
    "    out_name=\"dem_sampled\",\n",
    "    geometry_type=\"POINT\",\n",
    "    template=\"MN_dem_30m_points\",\n",
    "    has_m=\"DISABLED\",\n",
    "    has_z=\"DISABLED\",\n",
    "    spatial_reference='PROJCS[\"NAD_1983_UTM_Zone_15N\",GEOGCS[\"GCS_North_American_1983\",DATUM[\"D_North_American_1983\",SPHEROID[\"GRS_1980\",6378137.0,298.257222101]],PRIMEM[\"Greenwich\",0.0],UNIT[\"Degree\",0.0174532925199433]],PROJECTION[\"Transverse_Mercator\"],PARAMETER[\"False_Easting\",500000.0],PARAMETER[\"False_Northing\",0.0],PARAMETER[\"Central_Meridian\",-93.0],PARAMETER[\"Scale_Factor\",0.9996],PARAMETER[\"Latitude_Of_Origin\",0.0],UNIT[\"Meter\",1.0]];-5120900 -9998100 10000;-100000 10000;-100000 10000;0.001;0.001;0.001;IsHighPrecision',\n",
    "    config_keyword=\"\",\n",
    "    spatial_grid_1=0,\n",
    "    spatial_grid_2=0,\n",
    "    spatial_grid_3=0,\n",
    "    out_alias=\"\",\n",
    "    oid_type=\"SAME_AS_TEMPLATE\"\n",
    ")"
   ]
  },
  {
   "cell_type": "code",
   "execution_count": 7,
   "metadata": {},
   "outputs": [],
   "source": [
    "#store sample points in an array - will then be moved to the fc just created\n",
    "points = []\n",
    "with arcpy.da.SearchCursor(\"MN_dem_30m_points\", [\"SHAPE@XY\", \"grid_code\"]) as cursor:\n",
    "    for row in cursor:\n",
    "        points.append(row)\n",
    "\n",
    "#randomly selected\n",
    "random.shuffle(points)\n",
    "\n",
    "sampled_points = points[:sample_calc]"
   ]
  },
  {
   "cell_type": "code",
   "execution_count": 9,
   "metadata": {},
   "outputs": [],
   "source": [
    "#add sampled points to dem_sampled fc\n",
    "with arcpy.da.InsertCursor(\"dem_sampled\", [\"SHAPE@XY\", \"pointid\", \"grid_code\"]) as cursor:\n",
    "    for idx, point in enumerate(sampled_points):\n",
    "        x, y = point[0]\n",
    "        point_geometry = arcpy.PointGeometry(arcpy.Point(x, y))\n",
    "        cursor.insertRow([point_geometry, idx+1, point[1]])"
   ]
  },
  {
   "cell_type": "code",
   "execution_count": 10,
   "metadata": {},
   "outputs": [],
   "source": [
    "#interpolation #1 - IDW\n",
    "with arcpy.EnvManager(scratchWorkspace=r\"C:\\Users\\SCHIL726\\Documents\\ArcGIS\\Projects\\GIS5572_Lab3\\GIS5572_Lab3.gdb\"):\n",
    "    out_raster = arcpy.sa.Idw(\n",
    "        in_point_features=\"dem_sampled\",\n",
    "        z_field=\"grid_code\",\n",
    "        cell_size=186.24,\n",
    "        power=2,\n",
    "        search_radius=\"VARIABLE 12\",\n",
    "        in_barrier_polyline_features=None\n",
    "    )\n",
    "    out_raster.save(r\"C:\\Users\\SCHIL726\\Documents\\ArcGIS\\Projects\\GIS5572_Lab3\\GIS5572_Lab3.gdb\\IDW_sampled_dem\")"
   ]
  },
  {
   "cell_type": "code",
   "execution_count": 11,
   "metadata": {},
   "outputs": [],
   "source": [
    "#interpolation #2 - ordinary kriging\n",
    "with arcpy.EnvManager(scratchWorkspace=r\"C:\\Users\\SCHIL726\\Documents\\ArcGIS\\Projects\\GIS5572_Lab3\\GIS5572_Lab3.gdb\"):\n",
    "    out_surface_raster = arcpy.sa.Kriging(\n",
    "        in_point_features=\"dem_sampled\",\n",
    "        z_field=\"grid_code\",\n",
    "        kriging_model=\"Spherical # # # #\",\n",
    "        cell_size=186.24,\n",
    "        search_radius=\"VARIABLE 12\",\n",
    "        out_variance_prediction_raster=None\n",
    "    )\n",
    "    out_surface_raster.save(r\"C:\\Users\\SCHIL726\\Documents\\ArcGIS\\Projects\\GIS5572_Lab3\\GIS5572_Lab3.gdb\\ordinary_kriging_sampled_dem\")"
   ]
  },
  {
   "cell_type": "code",
   "execution_count": 12,
   "metadata": {},
   "outputs": [],
   "source": [
    "#interpolation 3 - universal kriging\n",
    "with arcpy.EnvManager(scratchWorkspace=r\"C:\\Users\\SCHIL726\\Documents\\ArcGIS\\Projects\\GIS5572_Lab3\\GIS5572_Lab3.gdb\"):\n",
    "    out_surface_raster = arcpy.sa.Kriging(\n",
    "        in_point_features=\"dem_sampled\",\n",
    "        z_field=\"grid_code\",\n",
    "        kriging_model=\"LinearDrift 186.240000 # # #\",\n",
    "        cell_size=186.24,\n",
    "        search_radius=\"VARIABLE 12\",\n",
    "        out_variance_prediction_raster=None\n",
    "    )\n",
    "    out_surface_raster.save(r\"C:\\Users\\SCHIL726\\Documents\\ArcGIS\\Projects\\GIS5572_Lab3\\GIS5572_Lab3.gdb\\universal_kriging_sampled_dem\")"
   ]
  },
  {
   "cell_type": "code",
   "execution_count": 13,
   "metadata": {},
   "outputs": [
    {
     "data": {
      "text/html": [
       "<div class='gpresult'><h2>Messages</h2><div id='messages' data-messages='[\"Start Time: Tuesday, April 8, 2025 12:02:25 PM\",\"Calculating Ordinary Kriging – Default\",\"Calculating Ordinary Kriging – Optimized\",\"Calculating Universal Kriging – Default\",\"Calculating Universal Kriging – Optimized\",\"Calculating Inverse Distance Weighted - Default\",\"Calculating Inverse Distance Weighted - Optimized\",\" \\n\",\"--------------------------------------------\",\"RANK | NAME\",\"--------------------------------------------\",\"\\n\",\"1    | Universal Kriging – Optimized\",\"\\n\",\"2    | Ordinary Kriging – Optimized\",\"\\n\",\"3    | Inverse Distance Weighted - Optimized\",\"\\n\",\"4    | Inverse Distance Weighted - Default\",\"\\n\",\"5    | Universal Kriging – Default\",\"\\n\",\"6    | Ordinary Kriging – Default\",\"--------------------------------------------\",\"Succeeded at Tuesday, April 8, 2025 12:03:05 PM (Elapsed Time: 40.64 seconds)\"]' data-show='true'><div id = 'default' /></div></div>"
      ],
      "text/plain": [
       "<Result 'C:\\\\Users\\\\SCHIL726\\\\Documents\\\\ArcGIS\\\\Projects\\\\GIS5572_Lab3\\\\GIS5572_Lab3.gdb\\\\ExploratoryInterpolation'>"
      ]
     },
     "execution_count": 13,
     "metadata": {},
     "output_type": "execute_result"
    }
   ],
   "source": [
    "#run exploratory interpolation for statistical analysis\n",
    "arcpy.ga.ExploratoryInterpolation(\n",
    "    in_features=\"dem_sampled\",\n",
    "    value_field=\"grid_code\",\n",
    "    out_cv_table=r\"C:\\Users\\SCHIL726\\Documents\\ArcGIS\\Projects\\GIS5572_Lab3\\GIS5572_Lab3.gdb\\ExploratoryInterpolation\",\n",
    "    out_geostat_layer=\"highest_rank_dem\",\n",
    "    interp_methods=\"ORDINARY_KRIGING;UNIVERSAL_KRIGING;IDW\",\n",
    "    comparison_method=\"SINGLE\",\n",
    "    criterion=\"ACCURACY\",\n",
    "    criteria_hierarchy=\"ACCURACY PERCENT #\",\n",
    "    weighted_criteria=\"ACCURACY 1\",\n",
    "    exclusion_criteria=None\n",
    ")"
   ]
  },
  {
   "cell_type": "code",
   "execution_count": 1,
   "metadata": {},
   "outputs": [],
   "source": [
    "#universal kriging shows as best per exploratory interpolation table\n",
    "#but based on the SA interpolation rasters in the GUI ordinary kriging looks best\n",
    "\n",
    "#caculate original dem and ordinary kriging dem difference with raster math\n",
    "difference_raster = arcpy.sa.Minus(\"hennepin_dem_30m\", \"ordinary_kriging_sampled\")"
   ]
  },
  {
   "cell_type": "code",
   "execution_count": 19,
   "metadata": {},
   "outputs": [
    {
     "data": {
      "text/html": [
       "<div class='gpresult'><h2>Messages</h2><div id='messages' data-messages='[\"Start Time: Tuesday, April 8, 2025 12:16:59 PM\",\"Succeeded at Tuesday, April 8, 2025 12:17:00 PM (Elapsed Time: 1.50 seconds)\"]' data-show='true'><div id = 'default' /></div></div>"
      ],
      "text/plain": [
       "<Result 'C:\\\\Users\\\\SCHIL726\\\\Documents\\\\ArcGIS\\\\Projects\\\\GIS5572_Lab3\\\\GIS5572_Lab3.gdb\\\\difference_dem_points'>"
      ]
     },
     "execution_count": 19,
     "metadata": {},
     "output_type": "execute_result"
    }
   ],
   "source": [
    "#convert difference raster to points\n",
    "arcpy.conversion.RasterToPoint(\n",
    "    in_raster=\"difference_raster\",\n",
    "    out_point_features=r\"C:\\Users\\SCHIL726\\Documents\\ArcGIS\\Projects\\GIS5572_Lab3\\GIS5572_Lab3.gdb\\difference_dem_points\",\n",
    "    raster_field=\"Value\"\n",
    ")"
   ]
  },
  {
   "cell_type": "code",
   "execution_count": 23,
   "metadata": {},
   "outputs": [],
   "source": [
    "#rename \"grid_code\" field to \"elevation_difference\"\n",
    "field_mapping = arcpy.FieldMappings()\n",
    "field_mapping.addTable(\"difference_dem_points\")\n",
    "for field in field_mapping.fields:\n",
    "     if field.name == \"grid_code\":\n",
    "        field.name = \"elevation_difference\"\n",
    "        arcpy.management.AlterField(\"difference_dem_points\", \"grid_code\", \"elevation_difference\")"
   ]
  },
  {
   "cell_type": "code",
   "execution_count": 4,
   "metadata": {},
   "outputs": [],
   "source": [
    "#push elevation interpolation(ordinary_kriging_sampled_dem_points) to database\n",
    "fc1 = \"ordinary_kriging_sampled_dem_points\"\n",
    "\n",
    "#connect to db\n",
    "conn = psycopg2.connect(\n",
    "    dbname=\"gis_data\",\n",
    "    user=\"postgres\",\n",
    "    password=\" \",\n",
    "    host=\"34.30.71.239\",\n",
    "    port=\"5432\"\n",
    ")\n",
    "cur = conn.cursor()\n",
    "\n",
    "#recreate table (since i can't push a gdf to postgis in arcpy notebook)\n",
    "cur.execute(\"DROP TABLE IF EXISTS ordinary_kriging_sampled_dem_points;\")\n",
    "cur.execute(\"\"\"\n",
    "    CREATE TABLE ordinary_kriging_sampled_dem_points (\n",
    "        id SERIAL PRIMARY KEY,\n",
    "        pointid INTEGER,\n",
    "        grid_code DOUBLE PRECISION,\n",
    "        geom GEOMETRY(POINT, 4326)\n",
    "    );\n",
    "\"\"\")\n",
    "conn.commit()\n",
    "\n",
    "#read from the feature class with arcpy\n",
    "with arcpy.da.SearchCursor(fc1, [\"SHAPE@XY\", \"pointid\", \"grid_code\"]) as cursor:\n",
    "    for row in cursor:\n",
    "        (x, y) = row[0]\n",
    "        pointid = row[1]\n",
    "        grid_code = row[2]\n",
    "        cur.execute(\"\"\"\n",
    "            INSERT INTO ordinary_kriging_sampled_dem_points (pointid, grid_code, geom)\n",
    "            VALUES (%s, %s, ST_SetSRID(ST_Point(%s, %s), 4326));\n",
    "        \"\"\", (pointid, grid_code, x, y))\n",
    "\n",
    "conn.commit()\n",
    "cur.close()\n",
    "conn.close()"
   ]
  },
  {
   "cell_type": "code",
   "execution_count": 5,
   "metadata": {},
   "outputs": [],
   "source": [
    "#push elevation point accuracy assessment(difference_dem_points) to database\n",
    "fc2 = \"difference_dem_points\"\n",
    "\n",
    "#reconnect to db\n",
    "conn = psycopg2.connect(\n",
    "    dbname=\"gis_data\",\n",
    "    user=\"postgres\",\n",
    "    password=\" \",\n",
    "    host=\"34.30.71.239\",\n",
    "    port=\"5432\"\n",
    ")\n",
    "cur = conn.cursor()\n",
    "\n",
    "#recreate table (since i can't push a gdf to postgis in arcpy notebook)\n",
    "cur.execute(\"DROP TABLE IF EXISTS difference_dem_points;\")\n",
    "cur.execute(\"\"\"\n",
    "    CREATE TABLE difference_dem_points (\n",
    "        id SERIAL PRIMARY KEY,\n",
    "        pointid INTEGER,\n",
    "        elevation_difference DOUBLE PRECISION,\n",
    "        geom GEOMETRY(POINT, 4326)\n",
    "    );\n",
    "\"\"\")\n",
    "conn.commit()\n",
    "\n",
    "#read from the feature class with arcpy\n",
    "with arcpy.da.SearchCursor(fc2, [\"SHAPE@XY\", \"pointid\", \"elevation_difference\"]) as cursor:\n",
    "    for row in cursor:\n",
    "        (x, y) = row[0]\n",
    "        pointid = row[1]\n",
    "        diff = row[2]\n",
    "        cur.execute(\"\"\"\n",
    "            INSERT INTO difference_dem_points (pointid, elevation_difference, geom)\n",
    "            VALUES (%s, %s, ST_SetSRID(ST_Point(%s, %s), 4326));\n",
    "        \"\"\", (pointid, diff, x, y))\n",
    "\n",
    "conn.commit()\n",
    "cur.close()\n",
    "conn.close()"
   ]
  },
  {
   "cell_type": "code",
   "execution_count": null,
   "metadata": {},
   "outputs": [],
   "source": []
  }
 ],
 "metadata": {
  "kernelspec": {
   "display_name": "ArcGISPro",
   "language": "Python",
   "name": "python3"
  },
  "language_info": {
   "file_extension": ".py",
   "name": "python",
   "version": "3"
  }
 },
 "nbformat": 4,
 "nbformat_minor": 2
}
